{
 "cells": [
  {
   "cell_type": "markdown",
   "metadata": {},
   "source": [
    "# Calculating Evenness for Resiliency Assessment\n",
    "\n",
    "This notebook describes the general process used to calculate evenness of a road network used in FTOT, and conducts the evenness calculations.\n",
    "\n",
    "This step is done following a complete FTOT run. This example uses Quick Start 7. Please refer to the [`Documentation and Scenario Datasets`](https://github.com/VolpeUSDOT/FTOT-Public/wiki/Documentation-and-Scenario-Datasets) available on the FTOT-Public wiki.\n",
    "\n",
    "After the baseline link flows and O-D costs have been calculated for the network, the outputs in the database will be link_flows, unmet demand (if any), and total cost. \n",
    "\n",
    "\n",
    "\n",
    "## Calculation of evenness\n",
    "\n",
    "There is more than one method to calculate evenness. Here, we describe two common algorithims, called Shannon Evenness and Simpson Evenness.\n",
    "\n",
    "Both of these rely on some calculation of a weight, referred to as $p$ in the code below, which represents how 'important' a given link is. The possible values for $p$ of each link include:\n",
    "\n",
    "- Volume of vehicles / tons of commodity travelling on that link\n",
    "- Available capacity of the link\n",
    "- Distance of the link\n",
    "- Sum of betweeness centrality of nodes at either end of the link\n",
    "\n",
    "\n",
    "This approach currently only addresses road modes. The multi-modal aspect of the network will require an evenness measure for each mode, and is not currently implemented.\n",
    "\n",
    "Given a network with capacity and baseline flow, we can calculate the following metrics:\n",
    "\n",
    "We will count the links in the network as $S$, and `capac_minus_volume_zero_floor` from the `edges` table in the database to calculate $p$.\n",
    "\n",
    "**Shannon Evenness**:\n",
    "\n",
    "$$\n",
    "E_H = \\frac{H'}{H_{max}}\n",
    "$$\n",
    "\n",
    "Where\n",
    "\n",
    "$$\n",
    "H' = - \\sum_{i=1}^S{ p_i \\ln p_i}\n",
    "$$\n",
    "\n",
    "$$\n",
    "H_{max} = \\ln S\n",
    "$$\n",
    "\n",
    "**Simpson's E evenness**: \n",
    "$$\n",
    "E = \\frac{1/D}{S_{obs}}\n",
    "$$\n",
    "\n",
    "Where $D$ is dominance:\n",
    "$$\n",
    "\\sum{p^2_i}\n",
    "$$\n",
    "\n",
    "and $p$ is proportion of the community represented by species $i$.\n",
    "\n",
    "The choice of which measure of evenness to use depends on the use case. Shannon Evenness is slightly more sensitive to 'rare species', meaning having more links ($S$) even if they have small importance ($p$) will increase Shannon Evenness. This can be an advantage as we consider high evenness to be an advantage in re-routing the flow over the network in the event of a disruption.\n",
    "\n",
    "*References*\n",
    "- http://www.tiem.utk.edu/~gross/bioed/bealsmodules/simpsonDI.html\n",
    "\n",
    "## How this process works with FTOT\n",
    "\n",
    "- After running a quick start scenario, the output database exists as `main.db`\n",
    "- We will connect to the database and extract the following\n",
    "    + From **`networkx_edges`**, get `miles`, `capacity`, and `volume`.\n",
    "    + The **`edges`** table includes `networkx_edges` output, as well as additional features. Notable are `edge_flow_cost` (and `edge_flow_cost2`), `max_edge_capacity`, and `volume` (background flow, existing volume)\n",
    "    + **`optimal_variables`** table is the edges in the optimal solution. `var_id` is the edge ID. \n",
    "    + **`optimal_solution`** includes the `variable_value` for the volume of flow. For edges which are in sequence, the value will be identical\n",
    "    + Get `dollar_cost` and `routing_cost` out of **`optimal_scenario_results`** table. `routing_cost` is the better one to use for us. Use the `mode == _total` rows of this.\n",
    "\n",
    "Links meet at nodes, which are not just intersections but also areas where the functional class or other attributes changes."
   ]
  },
  {
   "cell_type": "code",
   "execution_count": 6,
   "metadata": {},
   "outputs": [],
   "source": [
    "import os\n",
    "import pandas as pd\n",
    "import sqlalchemy\n",
    "from resiliency_disruptions import evenness_metrics\n",
    "\n",
    "scenario_path = r'C:\\FTOT\\scenarios\\quick_start\\qs7_rmp_proc_dest_multi_inputs'\n",
    "\n",
    "dbname = os.path.join(scenario_path, 'main.db')\n",
    "use_mode = 'road'\n",
    "db_path = 'sqlite:///' + os.path.join(dbname)\n",
    "table_name = 'edges'\n",
    "\n",
    "# Look to see if this has been run yet. If not, prompt the user to run the scenario.\n",
    "if os.path.isfile(dbname):   \n",
    "    engine = sqlalchemy.create_engine(db_path)\n",
    "    edges = pd.read_sql_table(table_name, engine)\n",
    "    # Subset to just the target transportation modes\n",
    "    edges = edges[edges['mode'] == use_mode] \n",
    "else:\n",
    "    print('Please run run_v5_1.bat in ' + scenario_path + '\\n then run this notebook')\n"
   ]
  },
  {
   "cell_type": "code",
   "execution_count": 8,
   "metadata": {},
   "outputs": [
    {
     "data": {
      "text/plain": [
       "array([[<matplotlib.axes._subplots.AxesSubplot object at 0x0000018DA5057B50>,\n",
       "        <matplotlib.axes._subplots.AxesSubplot object at 0x0000018DA50C6940>],\n",
       "       [<matplotlib.axes._subplots.AxesSubplot object at 0x0000018DA51B3DF0>,\n",
       "        <matplotlib.axes._subplots.AxesSubplot object at 0x0000018DA51ED2E0>]],\n",
       "      dtype=object)"
      ]
     },
     "execution_count": 8,
     "metadata": {},
     "output_type": "execute_result"
    },
    {
     "data": {
      "image/png": "[encoded data removed]",
      "text/plain": [
       "<Figure size 432x288 with 4 Axes>"
      ]
     },
     "metadata": {
      "needs_background": "light"
     },
     "output_type": "display_data"
    }
   ],
   "source": [
    "# Examine distribution of the different link attributes.\n",
    "edges.hist(column = ['capac_minus_volume_zero_floor', 'volume', 'miles'])"
   ]
  },
  {
   "cell_type": "code",
   "execution_count": 10,
   "metadata": {},
   "outputs": [
    {
     "name": "stderr",
     "output_type": "stream",
     "text": [
      "C:\\Users\\Daniel.Flynn\\Anaconda3\\envs\\FTOTenv\\lib\\site-packages\\pandas\\core\\series.py:679: RuntimeWarning: divide by zero encountered in log\n",
      "  result = getattr(ufunc, method)(*inputs, **kwargs)\n"
     ]
    },
    {
     "data": {
      "text/html": [
       "<div>\n",
       "<style scoped>\n",
       "    .dataframe tbody tr th:only-of-type {\n",
       "        vertical-align: middle;\n",
       "    }\n",
       "\n",
       "    .dataframe tbody tr th {\n",
       "        vertical-align: top;\n",
       "    }\n",
       "\n",
       "    .dataframe thead th {\n",
       "        text-align: right;\n",
       "    }\n",
       "</style>\n",
       "<table border=\"1\" class=\"dataframe\">\n",
       "  <thead>\n",
       "    <tr style=\"text-align: right;\">\n",
       "      <th></th>\n",
       "      <th>Evenness</th>\n",
       "      <th>Weighted_Evenness</th>\n",
       "    </tr>\n",
       "  </thead>\n",
       "  <tbody>\n",
       "    <tr>\n",
       "      <th>Evenness_AvailCapac</th>\n",
       "      <td>0.967176</td>\n",
       "      <td>6.065558e+08</td>\n",
       "    </tr>\n",
       "    <tr>\n",
       "      <th>Evenness_Vol</th>\n",
       "      <td>0.954815</td>\n",
       "      <td>1.353591e+09</td>\n",
       "    </tr>\n",
       "    <tr>\n",
       "      <th>Evenness_Len</th>\n",
       "      <td>0.922944</td>\n",
       "      <td>5.490133e+04</td>\n",
       "    </tr>\n",
       "  </tbody>\n",
       "</table>\n",
       "</div>"
      ],
      "text/plain": [
       "                     Evenness  Weighted_Evenness\n",
       "Evenness_AvailCapac  0.967176       6.065558e+08\n",
       "Evenness_Vol         0.954815       1.353591e+09\n",
       "Evenness_Len         0.922944       5.490133e+04"
      ]
     },
     "execution_count": 10,
     "metadata": {},
     "output_type": "execute_result"
    }
   ],
   "source": [
    "# Calculate evenness\n",
    "qs7_metrics = evenness_metrics(dbname)\n",
    "\n",
    "qs7_metrics"
   ]
  },
  {
   "cell_type": "markdown",
   "metadata": {},
   "source": [
    "### Next: `Conduct_Link_Removal`\n",
    "\n",
    "Open the `Conduct_Link_Removal.ipynb` notebook to carry out the disruptions, calculate performance at each step, and view the results."
   ]
  }
 ],
 "metadata": {
  "kernelspec": {
   "display_name": "Python [conda env:FTOTenv] *",
   "language": "python",
   "name": "conda-env-FTOTenv-py"
  },
  "language_info": {
   "codemirror_mode": {
    "name": "ipython",
    "version": 3
   },
   "file_extension": ".py",
   "mimetype": "text/x-python",
   "name": "python",
   "nbconvert_exporter": "python",
   "pygments_lexer": "ipython3",
   "version": "3.8.5"
  }
 },
 "nbformat": 4,
 "nbformat_minor": 4
}
