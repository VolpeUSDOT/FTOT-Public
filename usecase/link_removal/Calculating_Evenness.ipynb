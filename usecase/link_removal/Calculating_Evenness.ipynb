{
 "cells": [
  {
   "cell_type": "markdown",
   "metadata": {},
   "source": [
    "# Calculate Evenness\n",
    "\n",
    "For the Network Resiliency project, we have outlined a process in the `PseudoCode` document for calculating resiliency as as a property of a network which has a commodity flowed over it.\n",
    "\n",
    "After the baseline link flows and O-D costs have been calculated for the network, the outputs in the database will be link_flows, unmet demand (if any), and total cost. \n",
    "\n",
    "## Extracting node and link values from db\n",
    "\n",
    "- After running a quick start scenario, output database exists as `main.db`\n",
    "- Connect to the database and extract the following\n",
    "    + From **`networkx_edges`**, get `miles`, `capacity`, and `volume`.\n",
    "    + The **`edges`** table includes `networkx_edges` output, as well as additional features. Notable are `edge_flow_cost` (and `edge_flow_cost2`), `max_edge_capacity`, and `volume` (background flow, existing volume)\n",
    "    + **`optimal_variables`** table is the edges in the optimal solution. `var_id` is the edge ID. \n",
    "    + **`optimal_solution`** includes the `variable_value` for the volume of flow. For edges which are in sequence, the value will be identical\n",
    "    + Get `dollar_cost` and `routing_cost` out of **`optimal_scenario_results`** table. `routing_cost` is the better one to use for us. Use the `mode == _total` rows of this.\n",
    "\n",
    "Links meet at nodes, which are not just intersections but also areas where the functional class or other attributes changes.\n",
    "\n",
    "\n",
    "## Calculation of evenness\n",
    "\n",
    "1. As a screening approach. Given a network with capacity and baseline flow, calculate the following metrics, Simpson's E and Shannon Evenness:\n",
    "\n",
    "**Simpson's E evenness**: \n",
    "$$\n",
    "E = \\frac{1/D}{S_{obs}}\n",
    "$$\n",
    "\n",
    "Where $D$ is dominance:\n",
    "$$\n",
    "\\sum{p^2_i}\n",
    "$$\n",
    "\n",
    "and $p$ is proportion of the community represented by species $i$.\n",
    "\n",
    "Here we use links as 'species', and `capac_minus_volume_zero_floor` from `edges` to calculate $p$.\n",
    "\n",
    "**Shannon Evenness**:\n",
    "\n",
    "$$\n",
    "E_H = \\frac{H'}{H_{max}}\n",
    "$$\n",
    "\n",
    "Where\n",
    "\n",
    "$$\n",
    "H' = - \\sum_{i=1}^S{ p_i \\ln p_i}\n",
    "$$\n",
    "\n",
    "$$\n",
    "H_{max} = \\ln S\n",
    "$$\n",
    "\n",
    "\n",
    "2. As a performance-measurement approach. Use volume of goods flowing on the links in an optimal solution, as well as just the links used in the optimal solution. This would be very similar to the screening approach, except using just the links involved in the optimal solution, and use the realized flow for the $p$ proportion represented by this link \n",
    "\n",
    "*References*\n",
    "- http://www.tiem.utk.edu/~gross/bioed/bealsmodules/simpsonDI.html\n"
   ]
  },
  {
   "cell_type": "markdown",
   "metadata": {},
   "source": [
    "## What should we use as $p$?\n",
    "\n",
    "- Volume\n",
    "- Available capacity\n",
    "- Distance\n",
    "- Sum of betweeness centrality of nodes\n",
    "\n",
    "Proposal:\n",
    "\n",
    "Calculate Evenness (using Shannon Evenness) using each one of these.\n",
    "\n",
    "TODO: \n",
    "\n",
    "- How should we deal with the multi-modal aspect of the network? We will have an evenness measure for each mode.\n"
   ]
  },
  {
   "cell_type": "code",
   "execution_count": 1,
   "metadata": {},
   "outputs": [],
   "source": [
    "def evenness_metrics(dbname, use_mode = 'road'):\n",
    "    \"\"\"Function to calculate evenness of network using four different measures of link importance.\n",
    "    \n",
    "    dbname should be the full path to the FTOT database, main.db\n",
    "    use_mode should be what part of the transportation network to use. Currently just one string, can flex to a list\n",
    "    For example: dbname= C:\\FTOT\\scenarios\\quick_start\\qs7_rmp_proc_dest_multi_inputs\\main.db\n",
    "    It will read from the `edges` table of that database.\n",
    "    \"\"\"\n",
    "    import os\n",
    "    import sqlalchemy\n",
    "    import pandas as pd\n",
    "    import numpy as np\n",
    "    \n",
    "    db_path = 'sqlite:///' + os.path.join(dbname)\n",
    "    engine = sqlalchemy.create_engine(db_path)\n",
    "    table_name = 'edges'\n",
    "    edges = pd.read_sql_table(table_name, engine)\n",
    "    # Subset to just the target transportation modes\n",
    "    # and keep only unique edges\n",
    "    edges = edges[edges['mode'] == use_mode] \n",
    "    edges = edges.drop_duplicates(subset=['mode_oid'])\n",
    "    \n",
    "    S = edges.shape[0]\n",
    "    Hmax = np.log(S)\n",
    "    \n",
    "    metric_list = []\n",
    "    \n",
    "    weighted_metric_list = []\n",
    "    \n",
    "    # Available Capacity\n",
    "    \n",
    "    sum_weight = edges['capac_minus_volume_zero_floor'].sum()\n",
    "    props = edges['capac_minus_volume_zero_floor'] / sum_weight \n",
    "    # np.nansum(props) == 1 # Must equal 1, add this as a stopping criterion\n",
    "       \n",
    "    Hprime = -1 * np.nansum(np.log(props).multiply(props))\n",
    "    Evenness_capac = Hprime / Hmax\n",
    "    \n",
    "    metric_list.append(Evenness_capac)\n",
    "\n",
    "    weighted_metric_list.append(sum_weight * Evenness_capac)\n",
    "\n",
    "    # Volume\n",
    "\n",
    "    sum_weight = edges['volume'].sum()\n",
    "    props = edges['volume'] / sum_weight   \n",
    "    Hprime = -1 * np.nansum(np.log(props).multiply(props))\n",
    "    Evenness_vol = Hprime / Hmax\n",
    "   \n",
    "    metric_list.append(Evenness_vol)\n",
    "\n",
    "    weighted_metric_list.append(sum_weight * Evenness_vol)\n",
    "\n",
    "    # Length\n",
    "\n",
    "    sum_weight = edges['miles'].sum()\n",
    "    props = edges['miles'] / sum_weight \n",
    "    Hprime = -1 * np.nansum(np.log(props).multiply(props))\n",
    "    Evenness_dist = Hprime / Hmax\n",
    "    \n",
    "    metric_list.append(Evenness_dist)\n",
    "\n",
    "    weighted_metric_list.append(sum_weight * Evenness_dist)\n",
    "\n",
    "    \n",
    "    metric_df = pd.DataFrame(zip(metric_list, weighted_metric_list),\n",
    "                             columns = ['Evenness', 'Weighted_Evenness'],\n",
    "                             index = ['Evenness_AvailCapac', 'Evenness_Vol', 'Evenness_Len'])\n",
    "    \n",
    "            \n",
    "    return metric_df\n",
    "    "
   ]
  },
  {
   "cell_type": "code",
   "execution_count": 2,
   "metadata": {},
   "outputs": [
    {
     "data": {
      "text/plain": [
       "array([ 26662., 127482., 127494., ..., 152452.,  74113.,  74648.])"
      ]
     },
     "execution_count": 2,
     "metadata": {},
     "output_type": "execute_result"
    }
   ],
   "source": [
    "import os\n",
    "import sqlalchemy\n",
    "import pandas as pd\n",
    "import numpy as np\n",
    "\n",
    "\n",
    "scenario_path = r'C:\\FTOT\\scenarios\\quick_start\\qs7_MA'\n",
    "dbname = os.path.join(scenario_path, 'main.db')\n",
    "use_mode = 'road'\n",
    "db_path = 'sqlite:///' + os.path.join(dbname)\n",
    "engine = sqlalchemy.create_engine(db_path)\n",
    "table_name = 'edges'\n",
    "edges = pd.read_sql_table(table_name, engine)\n",
    "# Subset to just the target transportation modes\n",
    "\n",
    "edges = edges[edges['mode'] == use_mode] \n",
    "\n",
    "# Keep only unique edges \n",
    "edges['mode_oid'].unique()"
   ]
  },
  {
   "cell_type": "code",
   "execution_count": 3,
   "metadata": {},
   "outputs": [],
   "source": [
    "edges = edges.drop_duplicates(subset=['mode_oid'])"
   ]
  },
  {
   "cell_type": "code",
   "execution_count": 4,
   "metadata": {},
   "outputs": [
    {
     "name": "stderr",
     "output_type": "stream",
     "text": [
      "C:\\Users\\Daniel.Flynn\\Anaconda3\\envs\\geoenv\\lib\\site-packages\\pandas\\core\\series.py:679: RuntimeWarning: divide by zero encountered in log\n",
      "  result = getattr(ufunc, method)(*inputs, **kwargs)\n"
     ]
    }
   ],
   "source": [
    "S = edges.shape[0]\n",
    "Hmax = np.log(S)\n",
    "\n",
    "metric_list = []\n",
    "\n",
    "weighted_metric_list = []\n",
    "\n",
    "# Available Capacity\n",
    "\n",
    "sum_weight = edges['capac_minus_volume_zero_floor'].sum()\n",
    "props = edges['capac_minus_volume_zero_floor'] / sum_weight \n",
    "# np.nansum(props) == 1 # Must equal 1, add this as a stopping criterion\n",
    "\n",
    "Hprime = -1 * np.nansum(np.log(props).multiply(props))\n",
    "Evenness_capac = Hprime / Hmax\n",
    "\n",
    "metric_list.append(Evenness_capac)\n",
    "\n",
    "weighted_metric_list.append(sum_weight * Evenness_capac)\n",
    "\n",
    "# Volume\n",
    "\n",
    "sum_weight = edges['volume'].sum()\n",
    "props = edges['volume'] / sum_weight   \n",
    "Hprime = -1 * np.nansum(np.log(props).multiply(props))\n",
    "Evenness_vol = Hprime / Hmax\n",
    "   "
   ]
  },
  {
   "cell_type": "code",
   "execution_count": 5,
   "metadata": {},
   "outputs": [
    {
     "data": {
      "text/plain": [
       "array([[<matplotlib.axes._subplots.AxesSubplot object at 0x000001A591644430>,\n",
       "        <matplotlib.axes._subplots.AxesSubplot object at 0x000001A59155E760>]],\n",
       "      dtype=object)"
      ]
     },
     "execution_count": 5,
     "metadata": {},
     "output_type": "execute_result"
    },
    {
     "data": {
      "image/png": "[encoded data removed]",
      "text/plain": [
       "<Figure size 432x288 with 2 Axes>"
      ]
     },
     "metadata": {
      "needs_background": "light"
     },
     "output_type": "display_data"
    }
   ],
   "source": [
    "edges.hist(column = ['capac_minus_volume_zero_floor', 'volume'])"
   ]
  },
  {
   "cell_type": "code",
   "execution_count": 6,
   "metadata": {},
   "outputs": [
    {
     "name": "stdout",
     "output_type": "stream",
     "text": [
      "51\n",
      "17685\n",
      "202789207.0\n"
     ]
    }
   ],
   "source": [
    "print(len(props[props == 0]))\n",
    "print(len(props))\n",
    "print(sum_weight)"
   ]
  },
  {
   "cell_type": "code",
   "execution_count": null,
   "metadata": {},
   "outputs": [],
   "source": []
  },
  {
   "cell_type": "code",
   "execution_count": 7,
   "metadata": {},
   "outputs": [
    {
     "name": "stdout",
     "output_type": "stream",
     "text": [
      "9.234793935044813\n",
      "9.780472101639582\n"
     ]
    }
   ],
   "source": [
    "print(Hprime)\n",
    "print(Hmax)\n",
    "\n"
   ]
  },
  {
   "cell_type": "code",
   "execution_count": 14,
   "metadata": {},
   "outputs": [
    {
     "name": "stderr",
     "output_type": "stream",
     "text": [
      "C:\\Users\\Daniel.Flynn\\Anaconda3\\envs\\geoenv\\lib\\site-packages\\pandas\\core\\series.py:679: RuntimeWarning: divide by zero encountered in log\n",
      "  result = getattr(ufunc, method)(*inputs, **kwargs)\n"
     ]
    },
    {
     "data": {
      "text/html": [
       "<div>\n",
       "<style scoped>\n",
       "    .dataframe tbody tr th:only-of-type {\n",
       "        vertical-align: middle;\n",
       "    }\n",
       "\n",
       "    .dataframe tbody tr th {\n",
       "        vertical-align: top;\n",
       "    }\n",
       "\n",
       "    .dataframe thead th {\n",
       "        text-align: right;\n",
       "    }\n",
       "</style>\n",
       "<table border=\"1\" class=\"dataframe\">\n",
       "  <thead>\n",
       "    <tr style=\"text-align: right;\">\n",
       "      <th></th>\n",
       "      <th>Evenness</th>\n",
       "      <th>Weighted_Evenness</th>\n",
       "    </tr>\n",
       "  </thead>\n",
       "  <tbody>\n",
       "    <tr>\n",
       "      <th>Evenness_AvailCapac</th>\n",
       "      <td>0.976462</td>\n",
       "      <td>1.095331e+08</td>\n",
       "    </tr>\n",
       "    <tr>\n",
       "      <th>Evenness_Vol</th>\n",
       "      <td>0.941005</td>\n",
       "      <td>1.212170e+08</td>\n",
       "    </tr>\n",
       "    <tr>\n",
       "      <th>Evenness_Len</th>\n",
       "      <td>0.912689</td>\n",
       "      <td>7.020738e+03</td>\n",
       "    </tr>\n",
       "  </tbody>\n",
       "</table>\n",
       "</div>"
      ],
      "text/plain": [
       "                     Evenness  Weighted_Evenness\n",
       "Evenness_AvailCapac  0.976462       1.095331e+08\n",
       "Evenness_Vol         0.941005       1.212170e+08\n",
       "Evenness_Len         0.912689       7.020738e+03"
      ]
     },
     "execution_count": 14,
     "metadata": {},
     "output_type": "execute_result"
    }
   ],
   "source": [
    "import os\n",
    "\n",
    "scenario_path = r'C:\\FTOT\\scenarios\\quick_start\\qs7_MA'\n",
    "db_name = 'main.db'\n",
    "\n",
    "qs7_MA_metrics = evenness_metrics(os.path.join(scenario_path, db_name))\n",
    "\n",
    "qs7_MA_metrics"
   ]
  },
  {
   "cell_type": "code",
   "execution_count": 15,
   "metadata": {},
   "outputs": [
    {
     "name": "stderr",
     "output_type": "stream",
     "text": [
      "C:\\Users\\Daniel.Flynn\\Anaconda3\\envs\\geoenv\\lib\\site-packages\\pandas\\core\\series.py:679: RuntimeWarning: divide by zero encountered in log\n",
      "  result = getattr(ufunc, method)(*inputs, **kwargs)\n"
     ]
    },
    {
     "data": {
      "text/html": [
       "<div>\n",
       "<style scoped>\n",
       "    .dataframe tbody tr th:only-of-type {\n",
       "        vertical-align: middle;\n",
       "    }\n",
       "\n",
       "    .dataframe tbody tr th {\n",
       "        vertical-align: top;\n",
       "    }\n",
       "\n",
       "    .dataframe thead th {\n",
       "        text-align: right;\n",
       "    }\n",
       "</style>\n",
       "<table border=\"1\" class=\"dataframe\">\n",
       "  <thead>\n",
       "    <tr style=\"text-align: right;\">\n",
       "      <th></th>\n",
       "      <th>Evenness</th>\n",
       "      <th>Weighted_Evenness</th>\n",
       "    </tr>\n",
       "  </thead>\n",
       "  <tbody>\n",
       "    <tr>\n",
       "      <th>Evenness_AvailCapac</th>\n",
       "      <td>0.973289</td>\n",
       "      <td>6.188130e+07</td>\n",
       "    </tr>\n",
       "    <tr>\n",
       "      <th>Evenness_Vol</th>\n",
       "      <td>0.940965</td>\n",
       "      <td>7.677854e+07</td>\n",
       "    </tr>\n",
       "    <tr>\n",
       "      <th>Evenness_Len</th>\n",
       "      <td>0.923700</td>\n",
       "      <td>3.265362e+03</td>\n",
       "    </tr>\n",
       "  </tbody>\n",
       "</table>\n",
       "</div>"
      ],
      "text/plain": [
       "                     Evenness  Weighted_Evenness\n",
       "Evenness_AvailCapac  0.973289       6.188130e+07\n",
       "Evenness_Vol         0.940965       7.677854e+07\n",
       "Evenness_Len         0.923700       3.265362e+03"
      ]
     },
     "execution_count": 15,
     "metadata": {},
     "output_type": "execute_result"
    }
   ],
   "source": [
    "scenario_path = r'C:\\FTOT\\scenarios\\quick_start\\qs7_MA_2'\n",
    "\n",
    "qs7_MA_2_metrics = evenness_metrics(os.path.join(scenario_path, db_name))\n",
    "\n",
    "qs7_MA_2_metrics"
   ]
  },
  {
   "cell_type": "code",
   "execution_count": 16,
   "metadata": {},
   "outputs": [
    {
     "name": "stderr",
     "output_type": "stream",
     "text": [
      "C:\\Users\\Daniel.Flynn\\Anaconda3\\envs\\geoenv\\lib\\site-packages\\pandas\\core\\series.py:679: RuntimeWarning: divide by zero encountered in log\n",
      "  result = getattr(ufunc, method)(*inputs, **kwargs)\n"
     ]
    },
    {
     "data": {
      "text/html": [
       "<div>\n",
       "<style scoped>\n",
       "    .dataframe tbody tr th:only-of-type {\n",
       "        vertical-align: middle;\n",
       "    }\n",
       "\n",
       "    .dataframe tbody tr th {\n",
       "        vertical-align: top;\n",
       "    }\n",
       "\n",
       "    .dataframe thead th {\n",
       "        text-align: right;\n",
       "    }\n",
       "</style>\n",
       "<table border=\"1\" class=\"dataframe\">\n",
       "  <thead>\n",
       "    <tr style=\"text-align: right;\">\n",
       "      <th></th>\n",
       "      <th>Evenness</th>\n",
       "      <th>Weighted_Evenness</th>\n",
       "    </tr>\n",
       "  </thead>\n",
       "  <tbody>\n",
       "    <tr>\n",
       "      <th>Evenness_AvailCapac</th>\n",
       "      <td>0.983258</td>\n",
       "      <td>1.162214e+08</td>\n",
       "    </tr>\n",
       "    <tr>\n",
       "      <th>Evenness_Vol</th>\n",
       "      <td>0.945740</td>\n",
       "      <td>6.756334e+07</td>\n",
       "    </tr>\n",
       "    <tr>\n",
       "      <th>Evenness_Len</th>\n",
       "      <td>0.918740</td>\n",
       "      <td>6.264291e+03</td>\n",
       "    </tr>\n",
       "  </tbody>\n",
       "</table>\n",
       "</div>"
      ],
      "text/plain": [
       "                     Evenness  Weighted_Evenness\n",
       "Evenness_AvailCapac  0.983258       1.162214e+08\n",
       "Evenness_Vol         0.945740       6.756334e+07\n",
       "Evenness_Len         0.918740       6.264291e+03"
      ]
     },
     "execution_count": 16,
     "metadata": {},
     "output_type": "execute_result"
    }
   ],
   "source": [
    "scenario_path = r'C:\\FTOT\\scenarios\\quick_start\\qs7_OH'\n",
    "\n",
    "qs7_OH_metrics = evenness_metrics(os.path.join(scenario_path, db_name))\n",
    "\n",
    "qs7_OH_metrics"
   ]
  },
  {
   "cell_type": "code",
   "execution_count": 17,
   "metadata": {},
   "outputs": [
    {
     "name": "stderr",
     "output_type": "stream",
     "text": [
      "C:\\Users\\Daniel.Flynn\\Anaconda3\\envs\\geoenv\\lib\\site-packages\\pandas\\core\\series.py:679: RuntimeWarning: divide by zero encountered in log\n",
      "  result = getattr(ufunc, method)(*inputs, **kwargs)\n"
     ]
    },
    {
     "data": {
      "text/html": [
       "<div>\n",
       "<style scoped>\n",
       "    .dataframe tbody tr th:only-of-type {\n",
       "        vertical-align: middle;\n",
       "    }\n",
       "\n",
       "    .dataframe tbody tr th {\n",
       "        vertical-align: top;\n",
       "    }\n",
       "\n",
       "    .dataframe thead th {\n",
       "        text-align: right;\n",
       "    }\n",
       "</style>\n",
       "<table border=\"1\" class=\"dataframe\">\n",
       "  <thead>\n",
       "    <tr style=\"text-align: right;\">\n",
       "      <th></th>\n",
       "      <th>Evenness</th>\n",
       "      <th>Weighted_Evenness</th>\n",
       "    </tr>\n",
       "  </thead>\n",
       "  <tbody>\n",
       "    <tr>\n",
       "      <th>Evenness_AvailCapac</th>\n",
       "      <td>0.977828</td>\n",
       "      <td>4.485254e+07</td>\n",
       "    </tr>\n",
       "    <tr>\n",
       "      <th>Evenness_Vol</th>\n",
       "      <td>0.924557</td>\n",
       "      <td>3.350801e+07</td>\n",
       "    </tr>\n",
       "    <tr>\n",
       "      <th>Evenness_Len</th>\n",
       "      <td>0.901109</td>\n",
       "      <td>2.715985e+03</td>\n",
       "    </tr>\n",
       "  </tbody>\n",
       "</table>\n",
       "</div>"
      ],
      "text/plain": [
       "                     Evenness  Weighted_Evenness\n",
       "Evenness_AvailCapac  0.977828       4.485254e+07\n",
       "Evenness_Vol         0.924557       3.350801e+07\n",
       "Evenness_Len         0.901109       2.715985e+03"
      ]
     },
     "execution_count": 17,
     "metadata": {},
     "output_type": "execute_result"
    }
   ],
   "source": [
    "scenario_path = r'C:\\FTOT\\scenarios\\quick_start\\qs7_OH_2'\n",
    "\n",
    "qs7_OH_2_metrics = evenness_metrics(os.path.join(scenario_path, db_name))\n",
    "\n",
    "qs7_OH_2_metrics"
   ]
  },
  {
   "cell_type": "code",
   "execution_count": 18,
   "metadata": {},
   "outputs": [
    {
     "name": "stderr",
     "output_type": "stream",
     "text": [
      "C:\\Users\\Daniel.Flynn\\Anaconda3\\envs\\geoenv\\lib\\site-packages\\pandas\\core\\series.py:679: RuntimeWarning: divide by zero encountered in log\n",
      "  result = getattr(ufunc, method)(*inputs, **kwargs)\n"
     ]
    },
    {
     "data": {
      "text/html": [
       "<div>\n",
       "<style scoped>\n",
       "    .dataframe tbody tr th:only-of-type {\n",
       "        vertical-align: middle;\n",
       "    }\n",
       "\n",
       "    .dataframe tbody tr th {\n",
       "        vertical-align: top;\n",
       "    }\n",
       "\n",
       "    .dataframe thead th {\n",
       "        text-align: right;\n",
       "    }\n",
       "</style>\n",
       "<table border=\"1\" class=\"dataframe\">\n",
       "  <thead>\n",
       "    <tr style=\"text-align: right;\">\n",
       "      <th></th>\n",
       "      <th>Evenness</th>\n",
       "      <th>Weighted_Evenness</th>\n",
       "    </tr>\n",
       "  </thead>\n",
       "  <tbody>\n",
       "    <tr>\n",
       "      <th>Evenness_AvailCapac</th>\n",
       "      <td>0.958629</td>\n",
       "      <td>9.566684e+07</td>\n",
       "    </tr>\n",
       "    <tr>\n",
       "      <th>Evenness_Vol</th>\n",
       "      <td>0.929806</td>\n",
       "      <td>2.112799e+08</td>\n",
       "    </tr>\n",
       "    <tr>\n",
       "      <th>Evenness_Len</th>\n",
       "      <td>0.907912</td>\n",
       "      <td>9.223271e+03</td>\n",
       "    </tr>\n",
       "  </tbody>\n",
       "</table>\n",
       "</div>"
      ],
      "text/plain": [
       "                     Evenness  Weighted_Evenness\n",
       "Evenness_AvailCapac  0.958629       9.566684e+07\n",
       "Evenness_Vol         0.929806       2.112799e+08\n",
       "Evenness_Len         0.907912       9.223271e+03"
      ]
     },
     "execution_count": 18,
     "metadata": {},
     "output_type": "execute_result"
    }
   ],
   "source": [
    "scenario_path = r'C:\\FTOT\\scenarios\\quick_start\\qs7_CA'\n",
    "\n",
    "qs7_CA_metrics = evenness_metrics(os.path.join(scenario_path, db_name))\n",
    "\n",
    "qs7_CA_metrics"
   ]
  },
  {
   "cell_type": "code",
   "execution_count": null,
   "metadata": {},
   "outputs": [],
   "source": [
    "scenario_path = r'C:\\FTOT\\scenarios\\quick_start\\qs7_CA_2'\n",
    "\n",
    "qs7_CA_2_metrics = evenness_metrics(os.path.join(scenario_path, db_name))\n",
    "\n",
    "qs7_CA_2_metrics"
   ]
  },
  {
   "cell_type": "code",
   "execution_count": null,
   "metadata": {},
   "outputs": [],
   "source": []
  }
 ],
 "metadata": {
  "kernelspec": {
   "display_name": "geoenv",
   "language": "python",
   "name": "geoenv"
  },
  "language_info": {
   "codemirror_mode": {
    "name": "ipython",
    "version": 3
   },
   "file_extension": ".py",
   "mimetype": "text/x-python",
   "name": "python",
   "nbconvert_exporter": "python",
   "pygments_lexer": "ipython3",
   "version": "3.8.5"
  }
 },
 "nbformat": 4,
 "nbformat_minor": 4
}
